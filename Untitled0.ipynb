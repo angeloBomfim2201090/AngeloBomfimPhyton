{
  "nbformat": 4,
  "nbformat_minor": 0,
  "metadata": {
    "colab": {
      "provenance": [],
      "authorship_tag": "ABX9TyOMNYM4ca8QpOHCNuLIxYlI",
      "include_colab_link": true
    },
    "kernelspec": {
      "name": "python3",
      "display_name": "Python 3"
    },
    "language_info": {
      "name": "python"
    }
  },
  "cells": [
    {
      "cell_type": "markdown",
      "metadata": {
        "id": "view-in-github",
        "colab_type": "text"
      },
      "source": [
        "<a href=\"https://colab.research.google.com/github/angeloBomfim2201090/AngeloBomfimPhyton/blob/main/Untitled0.ipynb\" target=\"_parent\"><img src=\"https://colab.research.google.com/assets/colab-badge.svg\" alt=\"Open In Colab\"/></a>"
      ]
    },
    {
      "cell_type": "code",
      "source": [
        "#exercicio calculo volume da esfera\n",
        "from math import pi\n",
        "r = float(input(\"Digite o raio da esfera: \"))\n",
        "print(type(r))\n",
        "ve = (4*pi*r**3)/3\n",
        "print(type(ve))\n",
        "print(ve)\n"
      ],
      "metadata": {
        "colab": {
          "base_uri": "https://localhost:8080/"
        },
        "id": "y2dokUoN_j3F",
        "outputId": "f3cec20b-89a1-42a5-887c-3a7ee99ba6f4"
      },
      "execution_count": 18,
      "outputs": [
        {
          "output_type": "stream",
          "name": "stdout",
          "text": [
            "Digite o raio da esfera: 2\n",
            "<class 'float'>\n",
            "<class 'float'>\n",
            "33.510321638291124\n"
          ]
        }
      ]
    },
    {
      "cell_type": "code",
      "source": [
        "\n",
        "#converção de graus para radianos\n",
        "from math import pi\n",
        "g = float(input(\"Digite o Grau \"))\n",
        "print(type(g))\n",
        "x = g*pi/180\n",
        "print(type(x))\n",
        "print(x)\n"
      ],
      "metadata": {
        "colab": {
          "base_uri": "https://localhost:8080/"
        },
        "id": "N28PiHXsFG54",
        "outputId": "f11e7572-8a6d-4c69-9597-0a146f2647a9"
      },
      "execution_count": 20,
      "outputs": [
        {
          "output_type": "stream",
          "name": "stdout",
          "text": [
            "Digite o Grau 2\n",
            "<class 'float'>\n",
            "<class 'float'>\n",
            "0.03490658503988659\n"
          ]
        }
      ]
    },
    {
      "cell_type": "code",
      "source": [
        "#converção de radianos para grau\n",
        "import math\n",
        "\n",
        "def radianos_para_graus(radianos):\n",
        "    graus = radianos * (180 / math.pi)\n",
        "    return graus\n",
        "\n",
        "# Exemplo de uso\n",
        "radianos = float(input(\"Digite o valor em radianos: \"))\n",
        "graus = radianos_para_graus(radianos)\n",
        "print(f\"{radianos} radianos é igual a {graus:.2f} graus\")\n"
      ],
      "metadata": {
        "colab": {
          "base_uri": "https://localhost:8080/"
        },
        "id": "xQw8dqrhInFL",
        "outputId": "804ceb14-0d22-425c-92c2-7d33487ec3b3"
      },
      "execution_count": 27,
      "outputs": [
        {
          "output_type": "stream",
          "name": "stdout",
          "text": [
            "Digite o valor em radianos: 1\n",
            "1.0 radianos é igual a 57.30 graus\n"
          ]
        }
      ]
    },
    {
      "cell_type": "code",
      "source": [],
      "metadata": {
        "id": "N_zWMhGbLD8M"
      },
      "execution_count": null,
      "outputs": []
    }
  ]
}